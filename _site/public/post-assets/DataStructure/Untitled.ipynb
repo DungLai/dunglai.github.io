{
 "cells": [
  {
   "cell_type": "code",
   "execution_count": 61,
   "metadata": {},
   "outputs": [
    {
     "name": "stdout",
     "output_type": "stream",
     "text": [
      "[[1, 9], [4, 6]]\n",
      "[[0, 10]]\n"
     ]
    }
   ],
   "source": [
    "def findSumToN(arr, n):\n",
    "    i= 0\n",
    "    j= len(arr)-1\n",
    "    result = []\n",
    "    \n",
    "    while(i<j):\n",
    "        sum = arr[i]+arr[j] \n",
    "        if (sum == n):\n",
    "            result.append([arr[i],arr[j]])\n",
    "            i+=1\n",
    "            j-=1\n",
    "        elif (sum < n):\n",
    "            i+=1\n",
    "        elif (sum > n):\n",
    "            j-=1\n",
    "    \n",
    "    return result\n",
    "\n",
    "arr=[1,3,4,6,9]\n",
    "print(findSumToN(arr,10))\n",
    "\n",
    "arr=[0,10]\n",
    "print(findSumToN(arr,10))\n",
    "            \n",
    "            \n",
    "            "
   ]
  },
  {
   "cell_type": "code",
   "execution_count": 62,
   "metadata": {},
   "outputs": [
    {
     "name": "stdout",
     "output_type": "stream",
     "text": [
      "[[0, 1, 19], [2, 8, 10], [4, 6, 10]]\n"
     ]
    }
   ],
   "source": [
    "def findTripletsToN(arr,n):\n",
    "    arr.sort()\n",
    "    result = []\n",
    "    for i in range(len(arr)):\n",
    "        remain = n-arr[i]\n",
    "        j = i+1\n",
    "        k = len(arr)-1\n",
    "        \n",
    "        while (j<k):\n",
    "            sum = arr[j] + arr[k]\n",
    "            if (sum == remain):\n",
    "                result.append([arr[i], arr[j], arr[k]])\n",
    "                j+=1\n",
    "                k-=1\n",
    "            elif (sum < remain):\n",
    "                j+=1\n",
    "            elif (sum > remain):\n",
    "                k-=1\n",
    "        \n",
    "    return result\n",
    "\n",
    "arr = [0,1,2,4,8,6,10,19,20]\n",
    "print(findTripletsToN(arr,20))"
   ]
  }
 ],
 "metadata": {
  "kernelspec": {
   "display_name": "Python 3",
   "language": "python",
   "name": "python3"
  },
  "language_info": {
   "codemirror_mode": {
    "name": "ipython",
    "version": 3
   },
   "file_extension": ".py",
   "mimetype": "text/x-python",
   "name": "python",
   "nbconvert_exporter": "python",
   "pygments_lexer": "ipython3",
   "version": "3.6.3"
  }
 },
 "nbformat": 4,
 "nbformat_minor": 2
}
