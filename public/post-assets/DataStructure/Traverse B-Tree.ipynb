{
 "cells": [
  {
   "cell_type": "code",
   "execution_count": 8,
   "metadata": {
    "scrolled": false
   },
   "outputs": [
    {
     "name": "stdout",
     "output_type": "stream",
     "text": [
      "Test: Actual value is 7, test value is: 7\n",
      "[9, 7, 8, 5]\n",
      "12\n",
      "height\n"
     ]
    },
    {
     "ename": "TypeError",
     "evalue": "'NoneType' object is not iterable",
     "output_type": "error",
     "traceback": [
      "\u001b[1;31m---------------------------------------------------------------------------\u001b[0m",
      "\u001b[1;31mTypeError\u001b[0m                                 Traceback (most recent call last)",
      "\u001b[1;32m<ipython-input-8-5627b1a66597>\u001b[0m in \u001b[0;36m<module>\u001b[1;34m()\u001b[0m\n\u001b[0;32m    101\u001b[0m \u001b[1;33m\u001b[0m\u001b[0m\n\u001b[0;32m    102\u001b[0m \u001b[0mprint\u001b[0m\u001b[1;33m(\u001b[0m\u001b[1;34m\"height\"\u001b[0m\u001b[1;33m)\u001b[0m\u001b[1;33m\u001b[0m\u001b[0m\n\u001b[1;32m--> 103\u001b[1;33m \u001b[0mtree\u001b[0m\u001b[1;33m.\u001b[0m\u001b[0mtraverse_level\u001b[0m\u001b[1;33m(\u001b[0m\u001b[0mnode1\u001b[0m\u001b[1;33m,\u001b[0m\u001b[1;36m4\u001b[0m\u001b[1;33m)\u001b[0m\u001b[1;33m\u001b[0m\u001b[0m\n\u001b[0m",
      "\u001b[1;32m<ipython-input-8-5627b1a66597>\u001b[0m in \u001b[0;36mtraverse_level\u001b[1;34m(self, node, level)\u001b[0m\n\u001b[0;32m     47\u001b[0m         \u001b[1;32melse\u001b[0m\u001b[1;33m:\u001b[0m\u001b[1;33m\u001b[0m\u001b[0m\n\u001b[0;32m     48\u001b[0m             \u001b[1;32mfor\u001b[0m \u001b[0mchild\u001b[0m \u001b[1;32min\u001b[0m \u001b[0mnode\u001b[0m\u001b[1;33m.\u001b[0m\u001b[0mchildren\u001b[0m\u001b[1;33m:\u001b[0m\u001b[1;33m\u001b[0m\u001b[0m\n\u001b[1;32m---> 49\u001b[1;33m                 \u001b[0mself\u001b[0m\u001b[1;33m.\u001b[0m\u001b[0mtraverse_level\u001b[0m\u001b[1;33m(\u001b[0m\u001b[0mchild\u001b[0m\u001b[1;33m,\u001b[0m \u001b[0mlevel\u001b[0m\u001b[1;33m-\u001b[0m\u001b[1;36m1\u001b[0m\u001b[1;33m)\u001b[0m\u001b[1;33m\u001b[0m\u001b[0m\n\u001b[0m\u001b[0;32m     50\u001b[0m             \u001b[1;32mreturn\u001b[0m\u001b[1;33m\u001b[0m\u001b[0m\n\u001b[0;32m     51\u001b[0m \u001b[1;33m\u001b[0m\u001b[0m\n",
      "\u001b[1;32m<ipython-input-8-5627b1a66597>\u001b[0m in \u001b[0;36mtraverse_level\u001b[1;34m(self, node, level)\u001b[0m\n\u001b[0;32m     47\u001b[0m         \u001b[1;32melse\u001b[0m\u001b[1;33m:\u001b[0m\u001b[1;33m\u001b[0m\u001b[0m\n\u001b[0;32m     48\u001b[0m             \u001b[1;32mfor\u001b[0m \u001b[0mchild\u001b[0m \u001b[1;32min\u001b[0m \u001b[0mnode\u001b[0m\u001b[1;33m.\u001b[0m\u001b[0mchildren\u001b[0m\u001b[1;33m:\u001b[0m\u001b[1;33m\u001b[0m\u001b[0m\n\u001b[1;32m---> 49\u001b[1;33m                 \u001b[0mself\u001b[0m\u001b[1;33m.\u001b[0m\u001b[0mtraverse_level\u001b[0m\u001b[1;33m(\u001b[0m\u001b[0mchild\u001b[0m\u001b[1;33m,\u001b[0m \u001b[0mlevel\u001b[0m\u001b[1;33m-\u001b[0m\u001b[1;36m1\u001b[0m\u001b[1;33m)\u001b[0m\u001b[1;33m\u001b[0m\u001b[0m\n\u001b[0m\u001b[0;32m     50\u001b[0m             \u001b[1;32mreturn\u001b[0m\u001b[1;33m\u001b[0m\u001b[0m\n\u001b[0;32m     51\u001b[0m \u001b[1;33m\u001b[0m\u001b[0m\n",
      "\u001b[1;32m<ipython-input-8-5627b1a66597>\u001b[0m in \u001b[0;36mtraverse_level\u001b[1;34m(self, node, level)\u001b[0m\n\u001b[0;32m     46\u001b[0m             \u001b[1;32mreturn\u001b[0m\u001b[1;33m\u001b[0m\u001b[0m\n\u001b[0;32m     47\u001b[0m         \u001b[1;32melse\u001b[0m\u001b[1;33m:\u001b[0m\u001b[1;33m\u001b[0m\u001b[0m\n\u001b[1;32m---> 48\u001b[1;33m             \u001b[1;32mfor\u001b[0m \u001b[0mchild\u001b[0m \u001b[1;32min\u001b[0m \u001b[0mnode\u001b[0m\u001b[1;33m.\u001b[0m\u001b[0mchildren\u001b[0m\u001b[1;33m:\u001b[0m\u001b[1;33m\u001b[0m\u001b[0m\n\u001b[0m\u001b[0;32m     49\u001b[0m                 \u001b[0mself\u001b[0m\u001b[1;33m.\u001b[0m\u001b[0mtraverse_level\u001b[0m\u001b[1;33m(\u001b[0m\u001b[0mchild\u001b[0m\u001b[1;33m,\u001b[0m \u001b[0mlevel\u001b[0m\u001b[1;33m-\u001b[0m\u001b[1;36m1\u001b[0m\u001b[1;33m)\u001b[0m\u001b[1;33m\u001b[0m\u001b[0m\n\u001b[0;32m     50\u001b[0m             \u001b[1;32mreturn\u001b[0m\u001b[1;33m\u001b[0m\u001b[0m\n",
      "\u001b[1;31mTypeError\u001b[0m: 'NoneType' object is not iterable"
     ]
    }
   ],
   "source": [
    "class Node():\n",
    "    def __init__(self, data):\n",
    "        self.data = data\n",
    "        self.children = None\n",
    "        \n",
    "class B_tree():\n",
    "    def __init__(self,root):\n",
    "        if not isinstance(root, Node):\n",
    "            root = Node(root)\n",
    "        self.root = root\n",
    "    \n",
    "    def get_leaf_list(self, node):\n",
    "        self.leaf_list = []\n",
    "\n",
    "        self._add_leaf_to_list(node)\n",
    "\n",
    "        return self.leaf_list\n",
    "\n",
    "    def get_sum_path_to_leaf(self, node, value):\n",
    "        list_sum = self.__get_sum_list(node)\n",
    "        list_leaf = self.get_leaf_list(node)\n",
    "        \n",
    "        for i in range(len(list_leaf)):\n",
    "            if list_leaf[i] == value:\n",
    "                return list_sum[i]\n",
    "    \n",
    "    def get_height(self, node):\n",
    "        # Quang pro 's method\n",
    "        if node is None:\n",
    "            return 0\n",
    "        \n",
    "        max_height = 0\n",
    "        \n",
    "        if node.children is not None:\n",
    "            max_height = self.get_height(node.children[0])\n",
    "            for child in node.children:\n",
    "                max_height = max(max_height, self.get_height(child))\n",
    "        \n",
    "        return max_height + 1;\n",
    "            \n",
    "            \n",
    "    def traverse_level(self, node, level):\n",
    "        if level == 0:\n",
    "            print(node.data)\n",
    "        elif node is None:\n",
    "            return\n",
    "        else:\n",
    "            for child in node.children:\n",
    "                self.traverse_level(child, level-1)\n",
    "            return\n",
    "        \n",
    "    def __get_sum_list(self,node):\n",
    "        self.sum_list = []\n",
    "        self._add_sum_path_to_list(node,0)\n",
    "        return self.sum_list\n",
    "        \n",
    "        \n",
    "    def _add_leaf_to_list(self, node):\n",
    "        if node.children is not None:\n",
    "            for child in node.children:\n",
    "                self._add_leaf_to_list(child)\n",
    "        else:\n",
    "            self.leaf_list.append(node.data)     \n",
    "            \n",
    "    def _add_sum_path_to_list(self, node, current_sum):\n",
    "        current_sum += node.data\n",
    "        if node.children is not None:\n",
    "            for child in node.children:\n",
    "                self._add_sum_path_to_list(child, current_sum)\n",
    "        else:\n",
    "            self.sum_list.append(current_sum)  \n",
    "            \n",
    "node1 = Node(1)\n",
    "node2 = Node(2)\n",
    "node3 = Node(3)\n",
    "node5 = Node(5)\n",
    "node9 = Node(9)\n",
    "node6 = Node(6)\n",
    "node8 = Node(8)\n",
    "node7 = Node(7)\n",
    "\n",
    "node1.children = [node2, node3, node5]\n",
    "node3.children = [node8]\n",
    "node2.children = [node9,node6]\n",
    "node6.children = [node7]\n",
    "\n",
    "# #           1\n",
    "#         /   |  \\\n",
    "# #     2     3   5\n",
    "#       /\\    |\n",
    "# #    9  6   8\n",
    "#         |\n",
    "# #       7\n",
    "tree = B_tree(node1)\n",
    "\n",
    "print(\"Test: Actual value is 7, test value is: \" + str(tree.root.children[0].children[1].children[0].data))\n",
    "leaf_list = tree.get_leaf_list(node1)\n",
    "print(leaf_list)\n",
    "\n",
    "print(tree.get_sum_path_to_leaf(node1, 8))\n",
    "\n",
    "print(\"height\")\n",
    "tree.traverse_level(node1,4)"
   ]
  },
  {
   "cell_type": "code",
   "execution_count": null,
   "metadata": {
    "collapsed": true
   },
   "outputs": [],
   "source": []
  },
  {
   "cell_type": "code",
   "execution_count": null,
   "metadata": {
    "collapsed": true
   },
   "outputs": [],
   "source": []
  }
 ],
 "metadata": {
  "kernelspec": {
   "display_name": "Python 3",
   "language": "python",
   "name": "python3"
  },
  "language_info": {
   "codemirror_mode": {
    "name": "ipython",
    "version": 3
   },
   "file_extension": ".py",
   "mimetype": "text/x-python",
   "name": "python",
   "nbconvert_exporter": "python",
   "pygments_lexer": "ipython3",
   "version": "3.6.3"
  }
 },
 "nbformat": 4,
 "nbformat_minor": 2
}
