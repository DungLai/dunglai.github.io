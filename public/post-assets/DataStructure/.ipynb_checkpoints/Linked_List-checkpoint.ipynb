{
 "cells": [
  {
   "cell_type": "markdown",
   "metadata": {},
   "source": [
    "# Linked List\n",
    "\n",
    "### 1. Array\n",
    "\n",
    "Fixed size, contain elements of same  data type. \n",
    "When array is full, we need to create a new array with double the size and free the memory for former array.\n",
    "Insertion and deletion make almost all element moved/shifted\n",
    "\n",
    "1. Access: read/write element at any position: O(1) - best thing about array\n",
    "2. Insert, worst case is insert at the first position so all elements are shifted: O(n), insert at last position costs O(1)\n",
    "3. Remove, remove first element cost O(n) and remove last element costs O(1)\n",
    "4. Add, when array reaches max size, we need to copy all elements into new array: O(n), when not max size, it costs O(1)\n",
    "\n",
    "### 2. Linked list\n",
    "\n",
    "Linked list is non-consecutive nodes in memory, each node stores the actual data and the link to the next node (the address of the next node). \n",
    "\n",
    "Good thing is that each node cost small memory and all nodes doesnt take a long chunk in memory.\n",
    "\n",
    "Althought the total memory is a bit larger (carry a pointer every element), if data is big, carrying a pointer is not a big deal\n",
    "\n",
    "First node: Head node, this gives access of completed list\n",
    "Last node: Does not point to any node. So if we want to access an element in between, we need to start to ask the first node.\n",
    "\n",
    "1. Access: O(n)\n",
    "2. Insert O(1), indexing (finding the node) is O(n)\n"
   ]
  },
  {
   "cell_type": "code",
   "execution_count": 375,
   "metadata": {
    "collapsed": true
   },
   "outputs": [],
   "source": [
    "class ListNode:\n",
    "    \"ListNode class, each node has data and the reference to the next node\"\n",
    "    \n",
    "    def __init__(self, data):\n",
    "        self.data = data\n",
    "        self.next = None"
   ]
  },
  {
   "cell_type": "code",
   "execution_count": 376,
   "metadata": {},
   "outputs": [
    {
     "name": "stdout",
     "output_type": "stream",
     "text": [
      "Test print value of node: test value\n"
     ]
    }
   ],
   "source": [
    "# test\n",
    "node1 = ListNode(\"test value\")\n",
    "print(\"Test print value of node: \" + node1.data)"
   ]
  },
  {
   "cell_type": "code",
   "execution_count": 377,
   "metadata": {
    "collapsed": true
   },
   "outputs": [],
   "source": [
    "class SingleLinkedList:\n",
    "    \"class for single linked list: each node contain reference to next node\"\n",
    "    \n",
    "    def __init__(self):\n",
    "        \"A LinkedList only has first node and last node \"\n",
    "        \n",
    "        self.head = None \n",
    "        self.tail = None\n",
    "    \n",
    "    def add_list_item(self, item):\n",
    "        \"add item to end of list\"\n",
    "        \n",
    "        # convert data type of item to ListNode data type\n",
    "        if not isinstance(item, ListNode):\n",
    "            item = ListNode(item)\n",
    "        \n",
    "        # if the list is empty then the value being added becomes head, otherwise it becomes \n",
    "        if self.head is None:\n",
    "            self.head = item\n",
    "        else:\n",
    "            self.tail.next = item\n",
    "        \n",
    "        # fix the value of tail node, if list has 1 value, tail and head point to one same node\n",
    "        self.tail = item \n",
    "    \n",
    "    def list_length(self):\n",
    "        \"count the number of list items\"\n",
    "        \n",
    "        count = 0 \n",
    "        current_node = self.head\n",
    "        \n",
    "        while current_node is not None:\n",
    "            count += 1\n",
    "            \n",
    "            current_node = current_node.next\n",
    "        \n",
    "        return count\n",
    "    \n",
    "    def output_list(self):\n",
    "        \"outputs all value of list\"\n",
    "        \n",
    "        current_node = self.head\n",
    "        \n",
    "        while current_node is not None:\n",
    "            print(current_node.data, end=' ')\n",
    "        \n",
    "            current_node = current_node.next\n",
    "\n",
    "    def unordered_search (self, value):\n",
    "        \"search list and return the array that containt the position of the value that matched, index start at 1\"\n",
    "        \n",
    "        results = [] \n",
    "        \n",
    "        index = 1\n",
    "        current_node = self.head\n",
    "        \n",
    "        while current_node is not None:\n",
    "            \n",
    "            if current_node.data == value:\n",
    "                results.append(index)\n",
    "                \n",
    "            index += 1\n",
    "            current_node = current_node.next\n",
    "            \n",
    "        return results\n",
    "    \n",
    "    def remove_by_item_index(self, index):\n",
    "        \"remove a node from the list by its position, change the referece of the node that point to them to the reference of next node from the deleted node, unrefereced data will be taken by python garbage collector\"\n",
    "        \n",
    "        current_index = 1\n",
    "        \n",
    "        previous_node = None\n",
    "        current_node = self.head\n",
    "        \n",
    "        while current_node is not None:\n",
    "            if current_index == index: \n",
    "                \n",
    "                # when delete the first node\n",
    "                if previous_node is None:\n",
    "        \n",
    "                    # when delete first node, the second node become the head\n",
    "                    self.head = current_node.next\n",
    "                \n",
    "                    # remove the current node to free memory\n",
    "                    current_node = None\n",
    "                    \n",
    "                    return\n",
    "                \n",
    "                # change reference of the node before the one being deleted\n",
    "                previous_node.next = current_node.next\n",
    "                \n",
    "                return\n",
    "            \n",
    "            current_index +=1\n",
    "            previous_node = current_node\n",
    "            current_node = current_node.next\n",
    "        \n",
    "        print(\"Error: index out of range, unable to delete\")\n",
    "    \n",
    "    def reverse(self):\n",
    "        \"reverse the referencing order of linked list using iterative method\"\n",
    "        \n",
    "        previous_node = None\n",
    "        current_node = self.head\n",
    "        \n",
    "        self.tail = self.head\n",
    "        \n",
    "        while current_node is not None:\n",
    "            \n",
    "            # store next node because the pointer to the next node will be change after that\n",
    "            next_node = current_node.next\n",
    "            \n",
    "            # change pointer of each node to the previous node\n",
    "            current_node.next = previous_node\n",
    "            \n",
    "            # shift the position of current and previous node\n",
    "            previous_node = current_node\n",
    "            current_node = next_node\n",
    "        \n",
    "        # previous node is the last node, make it the head of single linked list\n",
    "        self.head = previous_node\n",
    "        "
   ]
  },
  {
   "cell_type": "code",
   "execution_count": 378,
   "metadata": {
    "scrolled": true
   },
   "outputs": [
    {
     "name": "stdout",
     "output_type": "stream",
     "text": [
      "track length: 0\n",
      "track length: 1\n",
      "12 \n",
      "track length: 2\n",
      "12 Chocolate \n",
      "track length: 3\n",
      "12 Chocolate Jelly \n",
      "track length: 4\n",
      "12 Chocolate Jelly 12 \n"
     ]
    }
   ],
   "source": [
    "# test add to list and print list\n",
    "node1 = ListNode(12)\n",
    "node2 = ListNode(\"Chocolate\")\n",
    "item3 = \"Jelly\"\n",
    "item4 = 12\n",
    "\n",
    "track = SingleLinkedList()\n",
    "print(\"track length: %i\" % track.list_length())\n",
    "\n",
    "for item in [node1, node2, item3, item4]:\n",
    "    track.add_list_item(item)\n",
    "    print(\"track length: %i\" % track.list_length())\n",
    "    track.output_list()\n",
    "    print()"
   ]
  },
  {
   "cell_type": "code",
   "execution_count": 379,
   "metadata": {
    "scrolled": true
   },
   "outputs": [
    {
     "name": "stdout",
     "output_type": "stream",
     "text": [
      "[1, 4]\n"
     ]
    }
   ],
   "source": [
    "# test search list\n",
    "\n",
    "print(track.unordered_search(12))"
   ]
  },
  {
   "cell_type": "code",
   "execution_count": 380,
   "metadata": {
    "scrolled": true
   },
   "outputs": [
    {
     "name": "stdout",
     "output_type": "stream",
     "text": [
      "Current list contains:\n",
      "12 Chocolate Jelly 12 1 \n",
      "\n",
      "List after reversing:\n",
      "1 12 Jelly Chocolate 12 add 13 to list: \n",
      "\n",
      "1 12 Jelly Chocolate 12 13 value of last node (tail):\n"
     ]
    },
    {
     "data": {
      "text/plain": [
       "13"
      ]
     },
     "execution_count": 380,
     "metadata": {},
     "output_type": "execute_result"
    }
   ],
   "source": [
    "# test  reverse list\n",
    "track.add_list_item(1)\n",
    "print(\"Current list contains:\")\n",
    "track.output_list()\n",
    "print()\n",
    "track.reverse()\n",
    "print(\"\\nList after reversing:\")\n",
    "track.output_list()\n",
    "print(\"add 13 to list: \")\n",
    "track.add_list_item(13)\n",
    "print()\n",
    "track.output_list()\n",
    "print(\"value of last node (tail):\")\n",
    "track.tail.data"
   ]
  },
  {
   "cell_type": "code",
   "execution_count": 381,
   "metadata": {
    "scrolled": true
   },
   "outputs": [
    {
     "name": "stdout",
     "output_type": "stream",
     "text": [
      "12 Jelly Chocolate 12 13 \n"
     ]
    }
   ],
   "source": [
    "# test remove list\n",
    "\n",
    "track.remove_by_item_index(1)\n",
    "track.output_list()\n",
    "print()"
   ]
  }
 ],
 "metadata": {
  "kernelspec": {
   "display_name": "Python 3",
   "language": "python",
   "name": "python3"
  },
  "language_info": {
   "codemirror_mode": {
    "name": "ipython",
    "version": 3
   },
   "file_extension": ".py",
   "mimetype": "text/x-python",
   "name": "python",
   "nbconvert_exporter": "python",
   "pygments_lexer": "ipython3",
   "version": "3.6.3"
  }
 },
 "nbformat": 4,
 "nbformat_minor": 2
}
