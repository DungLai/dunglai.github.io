{
 "cells": [
  {
   "cell_type": "code",
   "execution_count": 72,
   "metadata": {},
   "outputs": [],
   "source": [
    "def findglb(a, n): \n",
    "    \"\"\"\n",
    "    a: array\n",
    "    n: number\n",
    "    return greatest lower bound\n",
    "    \"\"\"\n",
    "    result=-1\n",
    "    a.sort()\n",
    "    l=0\n",
    "    u=len(a)-1\n",
    "    while (l<=u):\n",
    "        mid = int((l+u)/2)\n",
    "        if a[mid] <= n:\n",
    "            l = mid+1\n",
    "            result = a[mid]\n",
    "        else:\n",
    "            u = mid-1\n",
    "\n",
    "    return result\n",
    "        \n",
    "    \n"
   ]
  },
  {
   "cell_type": "code",
   "execution_count": 73,
   "metadata": {
    "scrolled": true
   },
   "outputs": [
    {
     "name": "stdout",
     "output_type": "stream",
     "text": [
      "[1, 1, 2, 2, 3, 3, 5, 5, 7]\n",
      "7\n"
     ]
    }
   ],
   "source": [
    "arr = [1,5,7,2,3,5,1,2,3]\n",
    "\n",
    "arr.sort()\n",
    "\n",
    "print(arr)\n",
    "print(findglb(arr,9))"
   ]
  },
  {
   "cell_type": "code",
   "execution_count": null,
   "metadata": {
    "collapsed": true
   },
   "outputs": [],
   "source": []
  }
 ],
 "metadata": {
  "kernelspec": {
   "display_name": "Python 3",
   "language": "python",
   "name": "python3"
  },
  "language_info": {
   "codemirror_mode": {
    "name": "ipython",
    "version": 3
   },
   "file_extension": ".py",
   "mimetype": "text/x-python",
   "name": "python",
   "nbconvert_exporter": "python",
   "pygments_lexer": "ipython3",
   "version": "3.6.3"
  }
 },
 "nbformat": 4,
 "nbformat_minor": 2
}
