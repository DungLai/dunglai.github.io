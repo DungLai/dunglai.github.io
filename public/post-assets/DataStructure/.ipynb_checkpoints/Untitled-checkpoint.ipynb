{
 "cells": [
  {
   "cell_type": "code",
   "execution_count": 11,
   "metadata": {},
   "outputs": [
    {
     "name": "stdout",
     "output_type": "stream",
     "text": [
      "1\n"
     ]
    }
   ],
   "source": [
    "# def increment(x):\n",
    "#     x += 1\n",
    "    \n",
    "# x=1\n",
    "# increment(x)\n",
    "# print(x)"
   ]
  },
  {
   "cell_type": "code",
   "execution_count": null,
   "metadata": {
    "collapsed": true
   },
   "outputs": [],
   "source": [
    "def findSum(arr, n):\n",
    "    i= 0\n",
    "    j= len(arr)\n",
    "    result = []\n",
    "    \n",
    "    while(i<j):\n",
    "        sum = arr[i]+arr[j] \n",
    "        if (sum == n):\n",
    "            result.append([arr[i],arr[j]])\n",
    "        elif (sum < n):\n",
    "            i++;\n",
    "        else:\n",
    "            j++;\n",
    "            \n",
    "            \n",
    "            "
   ]
  }
 ],
 "metadata": {
  "kernelspec": {
   "display_name": "Python 3",
   "language": "python",
   "name": "python3"
  },
  "language_info": {
   "codemirror_mode": {
    "name": "ipython",
    "version": 3
   },
   "file_extension": ".py",
   "mimetype": "text/x-python",
   "name": "python",
   "nbconvert_exporter": "python",
   "pygments_lexer": "ipython3",
   "version": "3.6.3"
  }
 },
 "nbformat": 4,
 "nbformat_minor": 2
}
