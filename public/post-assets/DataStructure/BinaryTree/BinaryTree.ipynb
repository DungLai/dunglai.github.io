{
 "cells": [
  {
   "cell_type": "markdown",
   "metadata": {},
   "source": [
    "## Binary Tree Implementation\n"
   ]
  },
  {
   "cell_type": "code",
   "execution_count": 1,
   "metadata": {
    "collapsed": true
   },
   "outputs": [],
   "source": [
    "class Node:\n",
    "    def __init__(self, data):\n",
    "        self.data = data\n",
    "        self.left = None\n",
    "        self.right = None\n",
    "        \n",
    "    def insert(self, data):\n",
    "        if self.data != data:\n",
    "            if data < self.data:\n",
    "                if self.left is None:\n",
    "                    self.left = Node(data)\n",
    "                else:\n",
    "                    self.left.insert(data)\n",
    "            elif data > self.data:\n",
    "                if self.right is None:\n",
    "                    self.right = Node(data)\n",
    "                else:\n",
    "                    self.right.insert(data)\n",
    "        else:\n",
    "            self.data = data \n",
    "    \n",
    "    def PrintTree(self):\n",
    "        if self.left:\n",
    "            self.left.PrintTree()\n",
    "            \n",
    "        print(self.data)\n",
    "        \n",
    "        if self.right:\n",
    "            self.right.PrintTree()\n",
    "            \n",
    "    # Inorder traversal\n",
    "    # Left -> Root -> Right\n",
    "    def InorderTraversal(self, root):\n",
    "        res = []\n",
    "        if root:\n",
    "            res = self.InorderTraversal(root.left)\n",
    "            res.append(root.data)\n",
    "            res = res + self.InorderTraversal(root.right)\n",
    "        return res\n",
    "    \n",
    "    # Preorder traversal\n",
    "    # Root -> Left ->Right\n",
    "    def PreorderTraversal(self, root):\n",
    "        res = []\n",
    "        if root:\n",
    "            res.append(root.data)\n",
    "            res = res + self.PreorderTraversal(root.left)\n",
    "            res = res + self.PreorderTraversal(root.right)\n",
    "        return res\n",
    "    \n",
    "    # Postorder traversal\n",
    "    # Left ->Right -> Root\n",
    "    def PostorderTraversal(self, root):\n",
    "        res = []\n",
    "        if root:\n",
    "            res = self.PostorderTraversal(root.left)\n",
    "            res = res + self.PostorderTraversal(root.right)\n",
    "            res.append(root.data)\n",
    "        return res\n",
    "    \n",
    "    def findMin(self,root):\n",
    "        if root is None:\n",
    "            return -1\n",
    "        if root.left is None:\n",
    "            return root.data\n",
    "        \n",
    "        return self.findMin(root.left)\n",
    "    \n",
    "    def findMax(self,root):\n",
    "        if root is None:\n",
    "            return -1\n",
    "        while(root.right is not None):\n",
    "            root = root.right\n",
    "            \n",
    "        return root.data"
   ]
  },
  {
   "cell_type": "code",
   "execution_count": 2,
   "metadata": {
    "scrolled": true
   },
   "outputs": [
    {
     "name": "stdout",
     "output_type": "stream",
     "text": [
      "3\n",
      "6\n",
      "9\n",
      "12\n",
      "13\n",
      "14\n",
      "16\n",
      "In-order Traversal: \n",
      "[3, 6, 9, 12, 13, 14, 16]\n",
      "\n",
      "Pre-order Traversal: \n",
      "[12, 6, 3, 9, 14, 13, 16]\n",
      "\n",
      "Post-order Traversal: \n",
      "[3, 9, 6, 13, 16, 14, 12]\n",
      "\n",
      "Min:  3\n",
      "Max:  16\n"
     ]
    }
   ],
   "source": [
    "## Testing\n",
    "root = Node(12)\n",
    "root.insert(6)\n",
    "root.insert(14)\n",
    "root.insert(3)\n",
    "root.insert(9)\n",
    "root.insert(9)\n",
    "root.insert(13)\n",
    "root.insert(16)\n",
    "\n",
    "root.PrintTree()\n",
    "print(\"In-order Traversal: \")\n",
    "print(root.InorderTraversal(root))\n",
    "print()\n",
    "\n",
    "print(\"Pre-order Traversal: \")\n",
    "print(root.PreorderTraversal(root))\n",
    "print()\n",
    "\n",
    "print(\"Post-order Traversal: \")\n",
    "print(root.PostorderTraversal(root))\n",
    "print()\n",
    "\n",
    "print(\"Min: \", root.findMin(root))\n",
    "print(\"Max: \", root.findMax(root))"
   ]
  },
  {
   "cell_type": "code",
   "execution_count": null,
   "metadata": {
    "collapsed": true
   },
   "outputs": [],
   "source": []
  },
  {
   "cell_type": "code",
   "execution_count": null,
   "metadata": {
    "collapsed": true
   },
   "outputs": [],
   "source": []
  },
  {
   "cell_type": "code",
   "execution_count": null,
   "metadata": {
    "collapsed": true
   },
   "outputs": [],
   "source": []
  },
  {
   "cell_type": "code",
   "execution_count": null,
   "metadata": {
    "collapsed": true
   },
   "outputs": [],
   "source": []
  }
 ],
 "metadata": {
  "kernelspec": {
   "display_name": "Python 3",
   "language": "python",
   "name": "python3"
  },
  "language_info": {
   "codemirror_mode": {
    "name": "ipython",
    "version": 3
   },
   "file_extension": ".py",
   "mimetype": "text/x-python",
   "name": "python",
   "nbconvert_exporter": "python",
   "pygments_lexer": "ipython3",
   "version": "3.6.3"
  }
 },
 "nbformat": 4,
 "nbformat_minor": 2
}
